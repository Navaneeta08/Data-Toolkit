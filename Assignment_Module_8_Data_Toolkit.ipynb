{
  "nbformat": 4,
  "nbformat_minor": 0,
  "metadata": {
    "colab": {
      "provenance": []
    },
    "kernelspec": {
      "name": "python3",
      "display_name": "Python 3"
    },
    "language_info": {
      "name": "python"
    }
  },
  "cells": [
    {
      "cell_type": "markdown",
      "source": [
        "# **Theory Question:**"
      ],
      "metadata": {
        "id": "ByYeo59qNegq"
      }
    },
    {
      "cell_type": "markdown",
      "source": [
        "## **1. What is NumPy, and why is it widely used in Python?**"
      ],
      "metadata": {
        "id": "Ao4IkDq8Nl8K"
      }
    },
    {
      "cell_type": "markdown",
      "source": [
        "- Numpy is a open source Python library used in numerical computation.\n",
        "- It supports large, multi-dimensional arrays and matrices, along with wide range of mathematical computation efficiently.\n",
        "- It is highly preffered due to its speed, flexibility and easy integration with other libraries."
      ],
      "metadata": {
        "id": "I19Z1YZkLU0O"
      }
    },
    {
      "cell_type": "markdown",
      "source": [
        "## **2. How does broadcasting work in NumPy?**"
      ],
      "metadata": {
        "id": "vRmHTffiNur7"
      }
    },
    {
      "cell_type": "markdown",
      "source": [
        "- Broadcasting in Numpy allows arrays of different shapes to be used together in mathematic/ arithmatic operations without making multiple copies of data.\n",
        "- The dimension of the arrays are compared from left to right.\n",
        "- The smaller arrays are stretched across the lasrger array to perform element wise operations.\n",
        "- It bars looping, which results in faster computation and memory efficiency.\n",
        "- It is useful in combining scalars with arrays or multi-dimensional operations across rows and columns.\n"
      ],
      "metadata": {
        "id": "c5annlD8Ng1o"
      }
    },
    {
      "cell_type": "markdown",
      "source": [
        "## **3. What is a Pandas DataFrame?**"
      ],
      "metadata": {
        "id": "03W-9EFtN2IG"
      }
    },
    {
      "cell_type": "markdown",
      "source": [
        "- A Pandas DataFrame is a 2d mutable data structure in Python, similar to Excel Sheet; which allows manipulation and analysis of data.\n",
        "- It consists of rows and columns which can hold different data types like strings, numbers, booleans.\n",
        "- With labeled axes(row index and column names), Dataframes make data more redable and accessible."
      ],
      "metadata": {
        "id": "QW8xmpiZPBTs"
      }
    },
    {
      "cell_type": "markdown",
      "source": [
        "## **4. Explain the use of the groupby() method in Pandas.**"
      ],
      "metadata": {
        "id": "TYiIpdRiN6LG"
      }
    },
    {
      "cell_type": "markdown",
      "source": [
        "- The groupby() method in Pandas is used to split data into groups based on one or more keys(columns), appling function to each group, and then combining the results altogether to display the output.\n",
        "- It follows the split-apply-combine strategy specially useful in data aggregation, transformation and analysis."
      ],
      "metadata": {
        "id": "R9VemxuWSKa1"
      }
    },
    {
      "cell_type": "markdown",
      "source": [
        "## **5. Why is Seaborn preferred for statistical visualizations?**"
      ],
      "metadata": {
        "id": "anbJUkHnN-72"
      }
    },
    {
      "cell_type": "markdown",
      "source": [
        "- Built on Matplotlib, Seaborn offers a high-level, user friendly interface for creating attractive and informative plots with minimal code, which makes it more preferrable over other libraries.\n",
        "- As it is specifically designed for statistical data visulization purpose, it makes easy for data exploration and understanding.\n",
        "- It includes built-in plots like heatmaps, pair plots, violin plots, categorical plots etc.\n",
        "- It allows aesthetic default styles and color palettes, resulting in more presentable visualization for data analysis purposes.\n"
      ],
      "metadata": {
        "id": "NaFQcTu4TjOZ"
      }
    },
    {
      "cell_type": "markdown",
      "source": [
        "## **6. What are the differences between NumPy arrays and Python lists?**"
      ],
      "metadata": {
        "id": "E8bOufxFOCwQ"
      }
    },
    {
      "cell_type": "markdown",
      "source": [
        "- Numpy arrays are core data structure for scientific computing in Python, offering significant performance advantages over conventional pythin lists.\n",
        "- The main distinguishing feature of Numpy arrays are that they are homogenous; all elements are of smae data type; while python lists are heterogenous; they can store different data types.\n",
        "- This homogeneity allows numpy to store arrays in a contiguous block of memory, which enables higly efficient, vectorized operations and more memory efficient.\n",
        "- Lists being heterogenous, store pointers to elements scattered throughout memory, making them slower, less memory efficient for numerical computation."
      ],
      "metadata": {
        "id": "X425zBlHae9O"
      }
    },
    {
      "cell_type": "markdown",
      "source": [
        "## **7. What is a heatmap, and when should it be used?**"
      ],
      "metadata": {
        "id": "OygLPKTaOGbJ"
      }
    },
    {
      "cell_type": "markdown",
      "source": [
        "- A heatmap is a data visualization technique that represents values in 2d colour codded matrix.\n",
        "- The intensity of colour corresponds to the value of data point, making patterns and correlations visually apparent.\n",
        "- Heatmaps are ideal for showing relationships between two variables, highlighting clusters of high or low values, and visualizing correlation matrices.\n",
        "- They are particularly useful for large datasets where traditional charts might be too clustered."
      ],
      "metadata": {
        "id": "L3yzBIrhcy-7"
      }
    },
    {
      "cell_type": "markdown",
      "source": [
        "## **8. What does the term “vectorized operation” mean in NumPy?**"
      ],
      "metadata": {
        "id": "eD0DBNrcOKBq"
      }
    },
    {
      "cell_type": "markdown",
      "source": [
        "- In Numpy, a vectorized operation defines as performing operations on entire arrays/ or a large chunk of data at once, ranther than iterating through elements with loops in Python.\n",
        "- Numpy uses optimized C and Fortran code under the hood making them more faster and memory efficient as compared to traditional Python Loops."
      ],
      "metadata": {
        "id": "4eId97ukeK38"
      }
    },
    {
      "cell_type": "markdown",
      "source": [
        "## **9. How does Matplotlib differ from Plotly?**"
      ],
      "metadata": {
        "id": "EqN8qW69ONg1"
      }
    },
    {
      "cell_type": "markdown",
      "source": [
        "- Both Matplotlib and Plotly are Python Libraries used for data visualization, but differs ub their approach and capabilities.\n",
        "- Matplotlib is a low-level, highly customisable library that suports precise control over every element of a plot.\n",
        "  - It is ideal for creating static, publication-ready visualization.\n",
        "- Plotly, in contrast, is a higher-level library that specializes in creating interactive, web-based visualizations.\n",
        "  - Its plots are dynamic, along with features like zooming, panning and hover over details, making it ideal for web dashboards and data exploration."
      ],
      "metadata": {
        "id": "CktmC5KLfO3i"
      }
    },
    {
      "cell_type": "markdown",
      "source": [
        "## **10. What is the significance of hierarchical indexing in Pandas?**"
      ],
      "metadata": {
        "id": "-9r-5ia1OQtf"
      }
    },
    {
      "cell_type": "markdown",
      "source": [
        "- Hierarchical indexing, also known as MultiIndex in Pandas that allows to have multiple index levels on an axis.\n",
        "- It enables to work with high-dimensional data in a 2d structure like a dataframe.\n",
        "- It supports grouping and manipulation of data.\n",
        "- It makes multi-level data management, analysis and reshaping more powerful and flexible in Pandas."
      ],
      "metadata": {
        "id": "d6NEheoQglMf"
      }
    },
    {
      "cell_type": "markdown",
      "source": [
        "## **11. What is the role of Seaborn’s pairplot() function?**"
      ],
      "metadata": {
        "id": "CmQjUECdOUJp"
      }
    },
    {
      "cell_type": "markdown",
      "source": [
        "- Seaborn's pairplot() function is used to create a grid of scatter plots (and histograms or KDE plots on the diagonal) that shows pairwise relationships between multiple numerical variables in a dataset.\n",
        "- It is quick and powerful tool for exploratory data analysis.\n",
        "- The diagonal plots of the grid display the distribution of each variable(using a histogram or KDE plot), while the off-diagonal plots show the scatter plot of each variable pair."
      ],
      "metadata": {
        "id": "wQ6o2sQUjXBP"
      }
    },
    {
      "cell_type": "markdown",
      "source": [
        "## **12. What is the purpose of the describe() function in Pandas?**"
      ],
      "metadata": {
        "id": "Qk9lon2JOXnL"
      }
    },
    {
      "cell_type": "markdown",
      "source": [
        "- The describe() functions in Pandas provide descriptive statistics of the dataframe providing central tendency, dispersion and shape of the data's distribution for all numerical columns.\n",
        "- It includes key matrics like count, mean, standard deviation, minimum and maximum values and Q1(25th Percentile), Q2(50th Percentile/Median) and Q3(75th Percentile).\n",
        "- Its primary role is to provide a fast, initial overview of the dataset's characteristics, helping in indentifying missing values/outliers."
      ],
      "metadata": {
        "id": "WnIDM3N7kIYv"
      }
    },
    {
      "cell_type": "markdown",
      "source": [
        "## **13. Why is handling missing data important in Pandas?**"
      ],
      "metadata": {
        "id": "vepOhfsXOa92"
      }
    },
    {
      "cell_type": "markdown",
      "source": [
        "- Handling missing data in Pandas is crucial because most of the real world datasets are incomplete.\n",
        "- Missing values are often represented as NaN, can skew statistical analysis, lead to incorrect model predictions, or cause functions to fail entirely.\n",
        "- It ensures the data integrety by proper addressing and makes the data more reliable.\n",
        "- Common ways to handle them include dropping rows and columns with too much missing data, imputing values( replacing NaN with the mean, median, or a specific constant value)."
      ],
      "metadata": {
        "id": "7KPGfJMrovb7"
      }
    },
    {
      "cell_type": "markdown",
      "source": [
        "## **14. What are the benefits of using Plotly for data visualization?**"
      ],
      "metadata": {
        "id": "HTIK7ldeOfol"
      }
    },
    {
      "cell_type": "markdown",
      "source": [
        "- Plotly offers great benefits for data visualization by enabling the vraetion of interactive , high quality and customizable charts with ease.\n",
        "- It provides features like zooming, panning, tootips and real time updates, making data exploration more engaging.\n",
        "- It supports a wide range of visualization, including scatter plots, line charts, heatmaos, 3d plots and geographic maos.\n",
        "- It can easily integrate with Python, R, JavaScript, making it ideal for building dashboards and web applications.\n"
      ],
      "metadata": {
        "id": "oHl5l2y5p2vJ"
      }
    },
    {
      "cell_type": "markdown",
      "source": [
        "## **15. How does NumPy handle multidimensional arrays?**"
      ],
      "metadata": {
        "id": "_HxS7DsYOjQX"
      }
    },
    {
      "cell_type": "markdown",
      "source": [
        "- Numpy handles multidimensional arrays using ndarray(N-dimensional array) object, which can represent data in any number of dimensions.\n",
        "- Each array has a shape(size of each dimension) and ndim(number of dimensions).\n",
        "- Numpy provides powerful indexing and slicing techniques, enabling easy access and manipulation of elements across dimensions.\n",
        "- Operations on multidimensional arrays are optimized using vectorization and broadcasting, avoiding slow python loops.\n",
        "- It also supports reshaping, transposing, stacking, and splitting arrays efficiently which helps in handling large datasets, matrices, images and tensors, forming the foundation for scientific computing and machine learning tasks in Python."
      ],
      "metadata": {
        "id": "kPchaVDotIMh"
      }
    },
    {
      "cell_type": "markdown",
      "source": [
        "## **16. What is the role of Bokeh in data visualization?**"
      ],
      "metadata": {
        "id": "KoaT1hFzOmZq"
      }
    },
    {
      "cell_type": "markdown",
      "source": [
        "- Bokeh is a interactive and visualization tool particularly suited for modern web browesers.\n",
        "- Its main role to transform large and complex datasets into clear, dynamic graphics that supports zooming, panning, hovering and real time updates.\n",
        "- Unlike static libraries like Matplotlibs, Bokeh is designed for web integration, making it ideal for dashboards, interactive reports and streaming data applications.\n",
        "- It supports various plots, including line charts, bar graphs, heatmaps and network graphs, with simple syntax.\n",
        "- Bokeh also integrates seamlessly with Pandas, Numpy and Jupyternotebooks."
      ],
      "metadata": {
        "id": "ZWS9Rm3HukvV"
      }
    },
    {
      "cell_type": "markdown",
      "source": [
        "## **17. Explain the difference between apply() and map() in Pandas.**"
      ],
      "metadata": {
        "id": "BwSkDL8JOpu8"
      }
    },
    {
      "cell_type": "markdown",
      "source": [
        "- The difference between apply() and map() in Pandas lies in their intended use and flexibility.\n",
        "- The map() method is designed to apply a function or a dictonary to each element of a series only, making it efficient for element-wise transformation.\n",
        "- The apply() method, in contrast is more versatile, which can be used on a Series or a Dataframe and applies a function along an axis(either to each row or each column).\n",
        "- Due to this flexibility, apply() is generally slower that map() but can handle more complex operations."
      ],
      "metadata": {
        "id": "DuyP2--pv2ei"
      }
    },
    {
      "cell_type": "markdown",
      "source": [
        "## **18. What are some advanced features of NumPy?**"
      ],
      "metadata": {
        "id": "_23V4ikIOt4t"
      }
    },
    {
      "cell_type": "markdown",
      "source": [
        "**Some Advanced features of Numpy are:**\n",
        "- It supports multidimensional arrays with efficient operations, broadcasting for arithmatic operations across different shapes and vectorization to eliminate Python loops.\n",
        "- Advance indexing techniques(boolean , fancy indexing) allow flexible data selection.\n",
        "- It includes optimized routines for linear algebra, Fourier transforms, random number generation and statistical operations.\n",
        "- It provides tools for memory mapping large datasets, enabling efficient handling of big data.\n",
        "- numpy arrays can also interface with C, C++, and Fortran code for perfomance critical tasks.\n"
      ],
      "metadata": {
        "id": "jyedkdHswu9K"
      }
    },
    {
      "cell_type": "markdown",
      "source": [
        "## **19. How does Pandas simplify time series analysis?**"
      ],
      "metadata": {
        "id": "URQ9JpN6OyFM"
      }
    },
    {
      "cell_type": "markdown",
      "source": [
        "- Pandas simplifies time series analysis by introducing the DataTimeIndex for efficient indexing and manipulation of time stamped data.\n",
        "- It enables easy indexing, slicing and subsetting of time based data.\n",
        "- Functions like to_datetime() converts strings to datetime objects, while resampling methods allow aggregation to different frequencies(daily, monthly, yearly).\n",
        "- It also provides shifting and lagging with shift(), rolling window calculations with rolling(), and time zone handling.\n",
        "- These features make it straightforward to detect trends, seasonality and patterns."
      ],
      "metadata": {
        "id": "m-QQX4YA2wWy"
      }
    },
    {
      "cell_type": "markdown",
      "source": [
        "## **20. What is the role of a pivot table in Pandas?**"
      ],
      "metadata": {
        "id": "B0K6Zx6DO1Y3"
      }
    },
    {
      "cell_type": "markdown",
      "source": [
        "- A pivot table in Pandas is a powerful data summerization tool that aggregates and reshapes a Dataframe.\n",
        "- It is used to summarize data from a flat table and present in a more meaningful, cross- tabular format.\n",
        "- The primary role of a pivot table is to group data by one or more columns ( the index and columns), perform an aggregation (like mean, sum or count) on a value column, and display the result in a new table."
      ],
      "metadata": {
        "id": "gJTR1coK4c53"
      }
    },
    {
      "cell_type": "markdown",
      "source": [
        "## **21. Why is NumPy’s array slicing faster than Python’s list slicing?**"
      ],
      "metadata": {
        "id": "sbGqCnosO6Eu"
      }
    },
    {
      "cell_type": "markdown",
      "source": [
        "- NumPy's array slicing is faster than Python's list slicing because NumPy arrays are stored in contiguous memory blocks, while Python lists store elements as separate objects scattered in memory.\n",
        "- When slicing a NumPy array, it creates a view (a lightweight reference to the original data) instead of copying elements, making the operation highly efficient.\n",
        "- In contrast, Python list slicing creates a new list with copied elements, which takes more time and memory.\n",
        "- Additionally, NumPy's backend is implemented in optimized C code, enabling vectorized operations and faster execution.\n",
        "- This memory efficiency and optimization give NumPy a significant performance advantage."
      ],
      "metadata": {
        "id": "FsvshkM75Rks"
      }
    },
    {
      "cell_type": "markdown",
      "source": [
        "## **22. What are some common use cases for Seaborn?**"
      ],
      "metadata": {
        "id": "EMNJJ-rMO9TR"
      }
    },
    {
      "cell_type": "markdown",
      "source": [
        "- Seaborn is widely used for statistical data visualization in Python, offering clean and informative plots with minimal code.\n",
        "- Common use cases include\n",
        "  - creating distribution plots (histograms, KDE, rug plots) to understand data spread,\n",
        "  - and categorical plots (box, violin, swarm plots) for comparing groups.\n",
        "- It's frequently used for correlation heatmaps and pair plots to explore relationships between multiple variables.\n",
        "- It also simplifies regression analysis through regression plots (regplot, lmplot).\n",
        "- With built-in themes and color palettes, it produces attractive, publication-quality visualizations.\n",
        "- Its seamless integration with Pandas DataFrames makes Seaborn especially useful in exploratory data analysis (EDA) and storytelling."
      ],
      "metadata": {
        "id": "g_h3Ftj_5o2i"
      }
    },
    {
      "cell_type": "markdown",
      "source": [
        "# **Practical Questions:**"
      ],
      "metadata": {
        "id": "tovaQYDCPAyb"
      }
    },
    {
      "cell_type": "markdown",
      "source": [
        "## **1. How do you create a 2D NumPy array and calculate the sum of each row?**"
      ],
      "metadata": {
        "id": "QvB3fDagPFqz"
      }
    },
    {
      "cell_type": "code",
      "source": [
        "import numpy as np\n",
        "\n",
        "# Creating a 2D Numpy Array:\n",
        "array_2d=np.array([[1,4,7],[2,5,8],[3,6,9]])\n",
        "print(\"The Two Dimensional Array is:\\n\",array_2d)\n",
        "\n",
        "# Calculating Sum of each row:\n",
        "row_sum=np.sum(array_2d,axis=1)\n",
        "print(\"\\nSum of each row:\",row_sum)"
      ],
      "metadata": {
        "colab": {
          "base_uri": "https://localhost:8080/"
        },
        "id": "CtNOHqmaX8FR",
        "outputId": "a5f1d54e-9b75-4f0f-c9dd-b99b2fa6bb50"
      },
      "execution_count": null,
      "outputs": [
        {
          "output_type": "stream",
          "name": "stdout",
          "text": [
            "The Two Dimensional Array is:\n",
            " [[1 4 7]\n",
            " [2 5 8]\n",
            " [3 6 9]]\n",
            "\n",
            "Sum of each row: [12 15 18]\n"
          ]
        }
      ]
    },
    {
      "cell_type": "markdown",
      "source": [
        "## **2. Write a Pandas script to find the mean of a specific column in a DataFrame.**"
      ],
      "metadata": {
        "id": "xUqW-fNFPJAN"
      }
    },
    {
      "cell_type": "code",
      "source": [
        "import pandas as pd\n",
        "\n",
        "# Creating a DataFrame:\n",
        "data={'Math:': [80,90,70,85], 'Science:':[75,85,85,70],'English:':[74,89,76,90]}\n",
        "\n",
        "df=pd.DataFrame(data)\n",
        "\n",
        "print(\"Data Frame:\\n\", df)\n",
        "\n",
        "# Mean of a specific subject:\n",
        "\n",
        "mean_math=df['Math:'].mean()\n",
        "mean_science=df['Science:'].mean()\n",
        "mean_english=df['English:'].mean()\n",
        "\n",
        "print(\"\\nMean of Math:\",mean_math)\n",
        "print(\"\\nMean of Science:\",mean_science)\n",
        "print(\"\\nMean of English:\",mean_english)\n"
      ],
      "metadata": {
        "colab": {
          "base_uri": "https://localhost:8080/"
        },
        "id": "o7mb1Y6cY87Q",
        "outputId": "46722714-a55c-4216-db86-7266fc65beb9"
      },
      "execution_count": null,
      "outputs": [
        {
          "output_type": "stream",
          "name": "stdout",
          "text": [
            "Data Frame:\n",
            "    Math:  Science:  English:\n",
            "0     80        75        74\n",
            "1     90        85        89\n",
            "2     70        85        76\n",
            "3     85        70        90\n",
            "\n",
            "Mean of Math: 81.25\n",
            "\n",
            "Mean of Science: 78.75\n",
            "\n",
            "Mean of English: 82.25\n"
          ]
        }
      ]
    },
    {
      "cell_type": "markdown",
      "source": [
        "## **3. Create a scatter plot using Matplotlib.**"
      ],
      "metadata": {
        "id": "LpRxMjORPNf9"
      }
    },
    {
      "cell_type": "code",
      "source": [
        "import matplotlib.pyplot as plt\n",
        "import numpy as np\n",
        "\n",
        "# Sample Data: Both the data frame must have same number of elements\n",
        "x=np.random.rand(30)\n",
        "y=np.random.rand(30)\n",
        "\n",
        "# Creating Scatter Plot:\n",
        "plt.scatter(x,y, color='orange', marker='o', s=50,alpha=0.7)\n",
        "\n",
        "# Adding Labels and Titles:\n",
        "plt.xlabel('X-axis')\n",
        "plt.ylabel('Y-axis')\n",
        "plt.title('Scatter Plot')\n",
        "\n",
        "# Displaying the Plot:\n",
        "plt.show()"
      ],
      "metadata": {
        "colab": {
          "base_uri": "https://localhost:8080/",
          "height": 472
        },
        "id": "oieJmRssaiZr",
        "outputId": "c901213f-aca1-46a5-c3a8-1845b68658cb"
      },
      "execution_count": null,
      "outputs": [
        {
          "output_type": "display_data",
          "data": {
            "text/plain": [
              "<Figure size 640x480 with 1 Axes>"
            ],
            "image/png": "[encoded data removed]"
          },
          "metadata": {}
        }
      ]
    },
    {
      "cell_type": "markdown",
      "source": [
        "## **4. How do you calculate the correlation matrix using Seaborn and visualize it with a heatmap?**"
      ],
      "metadata": {
        "id": "XgBJXgEGPQsG"
      }
    },
    {
      "cell_type": "code",
      "source": [
        "import pandas as pd\n",
        "import seaborn as sns\n",
        "import matplotlib.pyplot as plt\n",
        "\n",
        "# Creating a DataFrame:\n",
        "data={'Math': [80,90,70,85], 'Science':[75,85,85,70],'English':[74,89,76,90], 'Geography': [72,65,79,80]}\n",
        "\n",
        "df=pd.DataFrame(data)\n",
        "\n",
        "# Calculate the Correlation Matrix:\n",
        "corr_matrix=df.corr()\n",
        "\n",
        "print(\"Correlation Matrix:\\n\", corr_matrix)\n",
        "\n",
        "# Visualize the Correlation Matrix with a Heatmap:\n",
        "plt.figure(figsize=(8,6))\n",
        "sns.heatmap(corr_matrix, annot=True, cmap='coolwarm', linewidths=0.5, fmt='.2f')\n",
        "plt.title('Correlation Matrix Heatmap')\n",
        "plt.show()"
      ],
      "metadata": {
        "colab": {
          "base_uri": "https://localhost:8080/",
          "height": 649
        },
        "id": "BkIL3x0ubkb4",
        "outputId": "715e167e-bf2a-49bc-f00d-88b1d260c4d2"
      },
      "execution_count": null,
      "outputs": [
        {
          "output_type": "stream",
          "name": "stdout",
          "text": [
            "Correlation Matrix:\n",
            "                Math   Science   English  Geography\n",
            "Math       1.000000 -0.227710  0.782231  -0.615520\n",
            "Science   -0.227710  1.000000 -0.178122  -0.445964\n",
            "English    0.782231 -0.178122  1.000000  -0.164546\n",
            "Geography -0.615520 -0.445964 -0.164546   1.000000\n"
          ]
        },
        {
          "output_type": "display_data",
          "data": {
            "text/plain": [
              "<Figure size 800x600 with 2 Axes>"
            ],
            "image/png": "[encoded data removed]"
          },
          "metadata": {}
        }
      ]
    },
    {
      "cell_type": "markdown",
      "source": [
        "## **5. Generate a bar plot using Plotly.**"
      ],
      "metadata": {
        "id": "85FnS6dJPUBp"
      }
    },
    {
      "cell_type": "code",
      "source": [
        "import plotly.express as px\n",
        "import pandas as pd\n",
        "\n",
        "# Sample Data:\n",
        "data={'Product':['Laptop','Mouse','Keyboard','Monitor'],'Sales':[1000,500,800,1200]}\n",
        "\n",
        "df=pd.DataFrame(data)\n",
        "\n",
        "# Creating the Bar Plot:\n",
        "fig=px.bar(df, x='Product',y='Sales', title='Product Sales Bar Chart', color='Sales', color_continuous_scale='emrld', text='Sales')\n",
        "\n",
        "\n",
        "# Displaying the Plot:\n",
        "fig.show()"
      ],
      "metadata": {
        "colab": {
          "base_uri": "https://localhost:8080/",
          "height": 542
        },
        "id": "_wcaUniqcxrv",
        "outputId": "715618fd-ea0b-4fb7-ad30-75b129d29f52"
      },
      "execution_count": null,
      "outputs": [
        {
          "output_type": "display_data",
          "data": {
            "text/html": [
              "<html>\n",
              "<head><meta charset=\"utf-8\" /></head>\n",
              "<body>\n",
              "    <div>            <script src=\"https://cdnjs.cloudflare.com/ajax/libs/mathjax/2.7.5/MathJax.js?config=TeX-AMS-MML_SVG\"></script><script type=\"text/javascript\">if (window.MathJax && window.MathJax.Hub && window.MathJax.Hub.Config) {window.MathJax.Hub.Config({SVG: {font: \"STIX-Web\"}});}</script>                <script type=\"text/javascript\">window.PlotlyConfig = {MathJaxConfig: 'local'};</script>\n",
              "        <script charset=\"utf-8\" src=\"https://cdn.plot.ly/plotly-2.35.2.min.js\"></script>                <div id=\"d7ea6838-4f52-49ee-b555-cbef86e5d4f6\" class=\"plotly-graph-div\" style=\"height:525px; width:100%;\"></div>            <script type=\"text/javascript\">                                    window.PLOTLYENV=window.PLOTLYENV || {};                                    if (document.getElementById(\"d7ea6838-4f52-49ee-b555-cbef86e5d4f6\")) {                    Plotly.newPlot(                        \"d7ea6838-4f52-49ee-b555-cbef86e5d4f6\",                        [{\"alignmentgroup\":\"True\",\"hovertemplate\":\"Product=%{x}\\u003cbr\\u003eSales=%{marker.color}\\u003cextra\\u003e\\u003c\\u002fextra\\u003e\",\"legendgroup\":\"\",\"marker\":{\"color\":[1000,500,800,1200],\"coloraxis\":\"coloraxis\",\"pattern\":{\"shape\":\"\"}},\"name\":\"\",\"offsetgroup\":\"\",\"orientation\":\"v\",\"showlegend\":false,\"text\":[1000.0,500.0,800.0,1200.0],\"textposition\":\"auto\",\"x\":[\"Laptop\",\"Mouse\",\"Keyboard\",\"Monitor\"],\"xaxis\":\"x\",\"y\":[1000,500,800,1200],\"yaxis\":\"y\",\"type\":\"bar\"}],                        {\"template\":{\"data\":{\"histogram2dcontour\":[{\"type\":\"histogram2dcontour\",\"colorbar\":{\"outlinewidth\":0,\"ticks\":\"\"},\"colorscale\":[[0.0,\"#0d0887\"],[0.1111111111111111,\"#46039f\"],[0.2222222222222222,\"#7201a8\"],[0.3333333333333333,\"#9c179e\"],[0.4444444444444444,\"#bd3786\"],[0.5555555555555556,\"#d8576b\"],[0.6666666666666666,\"#ed7953\"],[0.7777777777777778,\"#fb9f3a\"],[0.8888888888888888,\"#fdca26\"],[1.0,\"#f0f921\"]]}],\"choropleth\":[{\"type\":\"choropleth\",\"colorbar\":{\"outlinewidth\":0,\"ticks\":\"\"}}],\"histogram2d\":[{\"type\":\"histogram2d\",\"colorbar\":{\"outlinewidth\":0,\"ticks\":\"\"},\"colorscale\":[[0.0,\"#0d0887\"],[0.1111111111111111,\"#46039f\"],[0.2222222222222222,\"#7201a8\"],[0.3333333333333333,\"#9c179e\"],[0.4444444444444444,\"#bd3786\"],[0.5555555555555556,\"#d8576b\"],[0.6666666666666666,\"#ed7953\"],[0.7777777777777778,\"#fb9f3a\"],[0.8888888888888888,\"#fdca26\"],[1.0,\"#f0f921\"]]}],\"heatmap\":[{\"type\":\"heatmap\",\"colorbar\":{\"outlinewidth\":0,\"ticks\":\"\"},\"colorscale\":[[0.0,\"#0d0887\"],[0.1111111111111111,\"#46039f\"],[0.2222222222222222,\"#7201a8\"],[0.3333333333333333,\"#9c179e\"],[0.4444444444444444,\"#bd3786\"],[0.5555555555555556,\"#d8576b\"],[0.6666666666666666,\"#ed7953\"],[0.7777777777777778,\"#fb9f3a\"],[0.8888888888888888,\"#fdca26\"],[1.0,\"#f0f921\"]]}],\"heatmapgl\":[{\"type\":\"heatmapgl\",\"colorbar\":{\"outlinewidth\":0,\"ticks\":\"\"},\"colorscale\":[[0.0,\"#0d0887\"],[0.1111111111111111,\"#46039f\"],[0.2222222222222222,\"#7201a8\"],[0.3333333333333333,\"#9c179e\"],[0.4444444444444444,\"#bd3786\"],[0.5555555555555556,\"#d8576b\"],[0.6666666666666666,\"#ed7953\"],[0.7777777777777778,\"#fb9f3a\"],[0.8888888888888888,\"#fdca26\"],[1.0,\"#f0f921\"]]}],\"contourcarpet\":[{\"type\":\"contourcarpet\",\"colorbar\":{\"outlinewidth\":0,\"ticks\":\"\"}}],\"contour\":[{\"type\":\"contour\",\"colorbar\":{\"outlinewidth\":0,\"ticks\":\"\"},\"colorscale\":[[0.0,\"#0d0887\"],[0.1111111111111111,\"#46039f\"],[0.2222222222222222,\"#7201a8\"],[0.3333333333333333,\"#9c179e\"],[0.4444444444444444,\"#bd3786\"],[0.5555555555555556,\"#d8576b\"],[0.6666666666666666,\"#ed7953\"],[0.7777777777777778,\"#fb9f3a\"],[0.8888888888888888,\"#fdca26\"],[1.0,\"#f0f921\"]]}],\"surface\":[{\"type\":\"surface\",\"colorbar\":{\"outlinewidth\":0,\"ticks\":\"\"},\"colorscale\":[[0.0,\"#0d0887\"],[0.1111111111111111,\"#46039f\"],[0.2222222222222222,\"#7201a8\"],[0.3333333333333333,\"#9c179e\"],[0.4444444444444444,\"#bd3786\"],[0.5555555555555556,\"#d8576b\"],[0.6666666666666666,\"#ed7953\"],[0.7777777777777778,\"#fb9f3a\"],[0.8888888888888888,\"#fdca26\"],[1.0,\"#f0f921\"]]}],\"mesh3d\":[{\"type\":\"mesh3d\",\"colorbar\":{\"outlinewidth\":0,\"ticks\":\"\"}}],\"scatter\":[{\"fillpattern\":{\"fillmode\":\"overlay\",\"size\":10,\"solidity\":0.2},\"type\":\"scatter\"}],\"parcoords\":[{\"type\":\"parcoords\",\"line\":{\"colorbar\":{\"outlinewidth\":0,\"ticks\":\"\"}}}],\"scatterpolargl\":[{\"type\":\"scatterpolargl\",\"marker\":{\"colorbar\":{\"outlinewidth\":0,\"ticks\":\"\"}}}],\"bar\":[{\"error_x\":{\"color\":\"#2a3f5f\"},\"error_y\":{\"color\":\"#2a3f5f\"},\"marker\":{\"line\":{\"color\":\"#E5ECF6\",\"width\":0.5},\"pattern\":{\"fillmode\":\"overlay\",\"size\":10,\"solidity\":0.2}},\"type\":\"bar\"}],\"scattergeo\":[{\"type\":\"scattergeo\",\"marker\":{\"colorbar\":{\"outlinewidth\":0,\"ticks\":\"\"}}}],\"scatterpolar\":[{\"type\":\"scatterpolar\",\"marker\":{\"colorbar\":{\"outlinewidth\":0,\"ticks\":\"\"}}}],\"histogram\":[{\"marker\":{\"pattern\":{\"fillmode\":\"overlay\",\"size\":10,\"solidity\":0.2}},\"type\":\"histogram\"}],\"scattergl\":[{\"type\":\"scattergl\",\"marker\":{\"colorbar\":{\"outlinewidth\":0,\"ticks\":\"\"}}}],\"scatter3d\":[{\"type\":\"scatter3d\",\"line\":{\"colorbar\":{\"outlinewidth\":0,\"ticks\":\"\"}},\"marker\":{\"colorbar\":{\"outlinewidth\":0,\"ticks\":\"\"}}}],\"scattermapbox\":[{\"type\":\"scattermapbox\",\"marker\":{\"colorbar\":{\"outlinewidth\":0,\"ticks\":\"\"}}}],\"scatterternary\":[{\"type\":\"scatterternary\",\"marker\":{\"colorbar\":{\"outlinewidth\":0,\"ticks\":\"\"}}}],\"scattercarpet\":[{\"type\":\"scattercarpet\",\"marker\":{\"colorbar\":{\"outlinewidth\":0,\"ticks\":\"\"}}}],\"carpet\":[{\"aaxis\":{\"endlinecolor\":\"#2a3f5f\",\"gridcolor\":\"white\",\"linecolor\":\"white\",\"minorgridcolor\":\"white\",\"startlinecolor\":\"#2a3f5f\"},\"baxis\":{\"endlinecolor\":\"#2a3f5f\",\"gridcolor\":\"white\",\"linecolor\":\"white\",\"minorgridcolor\":\"white\",\"startlinecolor\":\"#2a3f5f\"},\"type\":\"carpet\"}],\"table\":[{\"cells\":{\"fill\":{\"color\":\"#EBF0F8\"},\"line\":{\"color\":\"white\"}},\"header\":{\"fill\":{\"color\":\"#C8D4E3\"},\"line\":{\"color\":\"white\"}},\"type\":\"table\"}],\"barpolar\":[{\"marker\":{\"line\":{\"color\":\"#E5ECF6\",\"width\":0.5},\"pattern\":{\"fillmode\":\"overlay\",\"size\":10,\"solidity\":0.2}},\"type\":\"barpolar\"}],\"pie\":[{\"automargin\":true,\"type\":\"pie\"}]},\"layout\":{\"autotypenumbers\":\"strict\",\"colorway\":[\"#636efa\",\"#EF553B\",\"#00cc96\",\"#ab63fa\",\"#FFA15A\",\"#19d3f3\",\"#FF6692\",\"#B6E880\",\"#FF97FF\",\"#FECB52\"],\"font\":{\"color\":\"#2a3f5f\"},\"hovermode\":\"closest\",\"hoverlabel\":{\"align\":\"left\"},\"paper_bgcolor\":\"white\",\"plot_bgcolor\":\"#E5ECF6\",\"polar\":{\"bgcolor\":\"#E5ECF6\",\"angularaxis\":{\"gridcolor\":\"white\",\"linecolor\":\"white\",\"ticks\":\"\"},\"radialaxis\":{\"gridcolor\":\"white\",\"linecolor\":\"white\",\"ticks\":\"\"}},\"ternary\":{\"bgcolor\":\"#E5ECF6\",\"aaxis\":{\"gridcolor\":\"white\",\"linecolor\":\"white\",\"ticks\":\"\"},\"baxis\":{\"gridcolor\":\"white\",\"linecolor\":\"white\",\"ticks\":\"\"},\"caxis\":{\"gridcolor\":\"white\",\"linecolor\":\"white\",\"ticks\":\"\"}},\"coloraxis\":{\"colorbar\":{\"outlinewidth\":0,\"ticks\":\"\"}},\"colorscale\":{\"sequential\":[[0.0,\"#0d0887\"],[0.1111111111111111,\"#46039f\"],[0.2222222222222222,\"#7201a8\"],[0.3333333333333333,\"#9c179e\"],[0.4444444444444444,\"#bd3786\"],[0.5555555555555556,\"#d8576b\"],[0.6666666666666666,\"#ed7953\"],[0.7777777777777778,\"#fb9f3a\"],[0.8888888888888888,\"#fdca26\"],[1.0,\"#f0f921\"]],\"sequentialminus\":[[0.0,\"#0d0887\"],[0.1111111111111111,\"#46039f\"],[0.2222222222222222,\"#7201a8\"],[0.3333333333333333,\"#9c179e\"],[0.4444444444444444,\"#bd3786\"],[0.5555555555555556,\"#d8576b\"],[0.6666666666666666,\"#ed7953\"],[0.7777777777777778,\"#fb9f3a\"],[0.8888888888888888,\"#fdca26\"],[1.0,\"#f0f921\"]],\"diverging\":[[0,\"#8e0152\"],[0.1,\"#c51b7d\"],[0.2,\"#de77ae\"],[0.3,\"#f1b6da\"],[0.4,\"#fde0ef\"],[0.5,\"#f7f7f7\"],[0.6,\"#e6f5d0\"],[0.7,\"#b8e186\"],[0.8,\"#7fbc41\"],[0.9,\"#4d9221\"],[1,\"#276419\"]]},\"xaxis\":{\"gridcolor\":\"white\",\"linecolor\":\"white\",\"ticks\":\"\",\"title\":{\"standoff\":15},\"zerolinecolor\":\"white\",\"automargin\":true,\"zerolinewidth\":2},\"yaxis\":{\"gridcolor\":\"white\",\"linecolor\":\"white\",\"ticks\":\"\",\"title\":{\"standoff\":15},\"zerolinecolor\":\"white\",\"automargin\":true,\"zerolinewidth\":2},\"scene\":{\"xaxis\":{\"backgroundcolor\":\"#E5ECF6\",\"gridcolor\":\"white\",\"linecolor\":\"white\",\"showbackground\":true,\"ticks\":\"\",\"zerolinecolor\":\"white\",\"gridwidth\":2},\"yaxis\":{\"backgroundcolor\":\"#E5ECF6\",\"gridcolor\":\"white\",\"linecolor\":\"white\",\"showbackground\":true,\"ticks\":\"\",\"zerolinecolor\":\"white\",\"gridwidth\":2},\"zaxis\":{\"backgroundcolor\":\"#E5ECF6\",\"gridcolor\":\"white\",\"linecolor\":\"white\",\"showbackground\":true,\"ticks\":\"\",\"zerolinecolor\":\"white\",\"gridwidth\":2}},\"shapedefaults\":{\"line\":{\"color\":\"#2a3f5f\"}},\"annotationdefaults\":{\"arrowcolor\":\"#2a3f5f\",\"arrowhead\":0,\"arrowwidth\":1},\"geo\":{\"bgcolor\":\"white\",\"landcolor\":\"#E5ECF6\",\"subunitcolor\":\"white\",\"showland\":true,\"showlakes\":true,\"lakecolor\":\"white\"},\"title\":{\"x\":0.05},\"mapbox\":{\"style\":\"light\"}}},\"xaxis\":{\"anchor\":\"y\",\"domain\":[0.0,1.0],\"title\":{\"text\":\"Product\"}},\"yaxis\":{\"anchor\":\"x\",\"domain\":[0.0,1.0],\"title\":{\"text\":\"Sales\"}},\"coloraxis\":{\"colorbar\":{\"title\":{\"text\":\"Sales\"}},\"colorscale\":[[0.0,\"rgb(211, 242, 163)\"],[0.16666666666666666,\"rgb(151, 225, 150)\"],[0.3333333333333333,\"rgb(108, 192, 139)\"],[0.5,\"rgb(76, 155, 130)\"],[0.6666666666666666,\"rgb(33, 122, 121)\"],[0.8333333333333334,\"rgb(16, 89, 101)\"],[1.0,\"rgb(7, 64, 80)\"]]},\"legend\":{\"tracegroupgap\":0},\"title\":{\"text\":\"Product Sales Bar Chart\"},\"barmode\":\"relative\"},                        {\"responsive\": true}                    ).then(function(){\n",
              "                            \n",
              "var gd = document.getElementById('d7ea6838-4f52-49ee-b555-cbef86e5d4f6');\n",
              "var x = new MutationObserver(function (mutations, observer) {{\n",
              "        var display = window.getComputedStyle(gd).display;\n",
              "        if (!display || display === 'none') {{\n",
              "            console.log([gd, 'removed!']);\n",
              "            Plotly.purge(gd);\n",
              "            observer.disconnect();\n",
              "        }}\n",
              "}});\n",
              "\n",
              "// Listen for the removal of the full notebook cells\n",
              "var notebookContainer = gd.closest('#notebook-container');\n",
              "if (notebookContainer) {{\n",
              "    x.observe(notebookContainer, {childList: true});\n",
              "}}\n",
              "\n",
              "// Listen for the clearing of the current output cell\n",
              "var outputEl = gd.closest('.output');\n",
              "if (outputEl) {{\n",
              "    x.observe(outputEl, {childList: true});\n",
              "}}\n",
              "\n",
              "                        })                };                            </script>        </div>\n",
              "</body>\n",
              "</html>"
            ]
          },
          "metadata": {}
        }
      ]
    },
    {
      "cell_type": "markdown",
      "source": [
        "## **6. Create a DataFrame and add a new column based on an existing column.**"
      ],
      "metadata": {
        "id": "jDp8X78NPY5R"
      }
    },
    {
      "cell_type": "code",
      "source": [
        "import pandas as pd\n",
        "\n",
        "# Creating Sample Dataframe:\n",
        "\n",
        "data={'Name':['Navi','Kavi','Savi','Ravi'], 'Score':[80,78,85,90]}\n",
        "\n",
        "df=pd.DataFrame(data)\n",
        "\n",
        "print(\"Original DataFrame:\\n\", df)"
      ],
      "metadata": {
        "colab": {
          "base_uri": "https://localhost:8080/"
        },
        "id": "goqW_qSVesvU",
        "outputId": "c42d59ff-4981-463c-e1bd-07809d7aba5e"
      },
      "execution_count": null,
      "outputs": [
        {
          "output_type": "stream",
          "name": "stdout",
          "text": [
            "Original DataFrame:\n",
            "    Name  Score\n",
            "0  Navi     80\n",
            "1  Kavi     78\n",
            "2  Savi     85\n",
            "3  Ravi     90\n"
          ]
        }
      ]
    },
    {
      "cell_type": "code",
      "source": [
        "# Adding a new column as Percentage:\n",
        "df['Percentage']=(df['Score']/100)*100\n",
        "\n",
        "print(\"\\nDataFrame with Percentage Column:\\n\", df)"
      ],
      "metadata": {
        "colab": {
          "base_uri": "https://localhost:8080/"
        },
        "id": "_0kRSY7Gfg2g",
        "outputId": "e33a1d81-4abb-4629-9c14-c64c1220b1c5"
      },
      "execution_count": null,
      "outputs": [
        {
          "output_type": "stream",
          "name": "stdout",
          "text": [
            "\n",
            "DataFrame with Percentage Column:\n",
            "    Name  Score  Percentage\n",
            "0  Navi     80        80.0\n",
            "1  Kavi     78        78.0\n",
            "2  Savi     85        85.0\n",
            "3  Ravi     90        90.0\n"
          ]
        }
      ]
    },
    {
      "cell_type": "markdown",
      "source": [
        "## **7. Write a program to perform element-wise multiplication of two NumPy arrays.**"
      ],
      "metadata": {
        "id": "JI0Np52BPcTb"
      }
    },
    {
      "cell_type": "code",
      "source": [
        "import numpy as np\n",
        "\n",
        "# Creating two Numpy arrays of same shape:\n",
        "array1=np.array([45,15,78])\n",
        "array2=np.array([56,25,71])\n",
        "\n",
        "print(\"Array 1:\\n\", array1)\n",
        "print(\"\\nArray 2:\\n\", array2)\n",
        "\n",
        "# Element wise multiplication :\n",
        "\n",
        "result=array1*array2\n",
        "\n",
        "print(\"\\nElement wise multiplication:\\n\", result)"
      ],
      "metadata": {
        "colab": {
          "base_uri": "https://localhost:8080/"
        },
        "id": "DBiZJEyMgLJ4",
        "outputId": "1fec57ae-7ec9-4c47-c9c8-a647a2c58aae"
      },
      "execution_count": null,
      "outputs": [
        {
          "output_type": "stream",
          "name": "stdout",
          "text": [
            "Array 1:\n",
            " [45 15 78]\n",
            "\n",
            "Array 2:\n",
            " [56 25 71]\n",
            "\n",
            "Element wise multiplication:\n",
            " [2520  375 5538]\n"
          ]
        }
      ]
    },
    {
      "cell_type": "markdown",
      "source": [
        "## **8. Create a line plot with multiple lines using Matplotlib.**"
      ],
      "metadata": {
        "id": "8964eKBXPfdl"
      }
    },
    {
      "cell_type": "code",
      "source": [
        "import matplotlib.pyplot as plt\n",
        "import numpy as np\n",
        "\n",
        "# Sample Data:\n",
        "x=np.linspace(0,10,100)\n",
        "y1=np.sin(x)\n",
        "y2=np.cos(x)\n",
        "y3=np.tan(x)\n",
        "\n",
        "# Creating the Line Plot:\n",
        "plt.figure(figsize=(10,6))\n",
        "plt.plot(x,y1, label='Sin(x)', color='blue',linestyle='-')\n",
        "plt.plot(x,y2, label='Cos(x)',color='red',linestyle='--')\n",
        "plt.plot(x,y3, label='Tan(x)', color='green', linestyle=':')\n",
        "\n",
        "# Adding Labels, Titles, Legend:\n",
        "\n",
        "plt.xlabel('X-axis')\n",
        "plt.ylabel('Y-axis')\n",
        "plt.title('Line Plot with Multiple Lines')\n",
        "plt.legend()\n",
        "\n",
        "# Displaying the Plot:\n",
        "plt.grid(True)\n",
        "plt.show()"
      ],
      "metadata": {
        "colab": {
          "base_uri": "https://localhost:8080/",
          "height": 552
        },
        "id": "IGwGovE2hEYU",
        "outputId": "5abcbc45-9c6b-4e54-f4a1-7969dafea4b5"
      },
      "execution_count": null,
      "outputs": [
        {
          "output_type": "display_data",
          "data": {
            "text/plain": [
              "<Figure size 1000x600 with 1 Axes>"
            ],
            "image/png": "[encoded data removed]"
          },
          "metadata": {}
        }
      ]
    },
    {
      "cell_type": "markdown",
      "source": [
        "## **9. Generate a Pandas DataFrame and filter rows where a column value is greater than a threshold.**"
      ],
      "metadata": {
        "id": "D1vakcqPPi0P"
      }
    },
    {
      "cell_type": "code",
      "source": [
        "import pandas as pd\n",
        "\n",
        "# Create a Dataframe:\n",
        "\n",
        "data={'Name':['Navi','Kavi','Savi','Ravi'],'Age':[30,25,35,24],'Salary':[25000,20000,15000,20000]}\n",
        "\n",
        "df=pd.DataFrame(data)\n",
        "\n",
        "print(\"Original DataFrame:\\n\",df)\n",
        "\n",
        "# Define threshold:\n",
        "threshold=30\n",
        "\n",
        "# Filter rows where Age>> threshold\n",
        "filtered_df=df[df['Age']>=threshold]\n",
        "\n",
        "print(\"\\nFiltered DataFrame:\\n\",filtered_df)"
      ],
      "metadata": {
        "colab": {
          "base_uri": "https://localhost:8080/"
        },
        "id": "jJk0yEYviHtr",
        "outputId": "c63d64a5-7ee8-4928-f137-9939a57ae3be"
      },
      "execution_count": null,
      "outputs": [
        {
          "output_type": "stream",
          "name": "stdout",
          "text": [
            "Original DataFrame:\n",
            "    Name  Age  Salary\n",
            "0  Navi   30   25000\n",
            "1  Kavi   25   20000\n",
            "2  Savi   35   15000\n",
            "3  Ravi   24   20000\n",
            "\n",
            "Filtered DataFrame:\n",
            "    Name  Age  Salary\n",
            "0  Navi   30   25000\n",
            "2  Savi   35   15000\n"
          ]
        }
      ]
    },
    {
      "cell_type": "markdown",
      "source": [
        "## **10. Create a histogram using Seaborn to visualize a distribution.**"
      ],
      "metadata": {
        "id": "vPDoH50GPm0p"
      }
    },
    {
      "cell_type": "code",
      "source": [
        "import seaborn as sns\n",
        "import matplotlib.pyplot as plt\n",
        "\n",
        "# Sample Data:\n",
        "data=[75,52,46,62,66,58,77,45,62,71,84,82,83,79,80]\n",
        "\n",
        "# Creating Histogram:\n",
        "sns.histplot(data, bins=8,kde=True,color='darkorange')\n",
        "\n",
        "# Adding Labels and Title:\n",
        "plt.xlabel('Value')\n",
        "plt.ylabel('Frequency')\n",
        "plt.title('Distribution of Sample Data')\n",
        "\n",
        "# Displaying the Plot:\n",
        "plt.show()"
      ],
      "metadata": {
        "colab": {
          "base_uri": "https://localhost:8080/",
          "height": 472
        },
        "id": "miPE96L_jkLW",
        "outputId": "9aead60d-3bf6-4a40-f82e-79a551801133"
      },
      "execution_count": null,
      "outputs": [
        {
          "output_type": "display_data",
          "data": {
            "text/plain": [
              "<Figure size 640x480 with 1 Axes>"
            ],
            "image/png": "[encoded data removed]"
          },
          "metadata": {}
        }
      ]
    },
    {
      "cell_type": "markdown",
      "source": [
        "## **11. Perform matrix multiplication using NumPy.**"
      ],
      "metadata": {
        "id": "XufY1uyuPqEk"
      }
    },
    {
      "cell_type": "code",
      "source": [
        "import numpy as np\n",
        "\n",
        "# Defining two matrices:\n",
        "A=np.array([[1,2,3],[4,5,6],[7,8,9]])\n",
        "B=np.array([[9,8,7],[6,5,4],[3,2,1]])\n",
        "\n",
        "print(\"Matrix A:\\n\",A)\n",
        "print(\"\\nMatrix B:\\n\",B)\n",
        "\n",
        "# Matrix Multiplication:\n",
        "result=A@B\n",
        "\n",
        "print(\"\\nMatrix Multiplication Result:\\n\",result)"
      ],
      "metadata": {
        "colab": {
          "base_uri": "https://localhost:8080/"
        },
        "id": "GBePk-iGk3vb",
        "outputId": "f109e35a-64b9-44f2-f9f6-806a349809d1"
      },
      "execution_count": null,
      "outputs": [
        {
          "output_type": "stream",
          "name": "stdout",
          "text": [
            "Matrix A:\n",
            " [[1 2 3]\n",
            " [4 5 6]\n",
            " [7 8 9]]\n",
            "\n",
            "Matrix B:\n",
            " [[9 8 7]\n",
            " [6 5 4]\n",
            " [3 2 1]]\n",
            "\n",
            "Matrix Multiplication Result:\n",
            " [[ 30  24  18]\n",
            " [ 84  69  54]\n",
            " [138 114  90]]\n"
          ]
        }
      ]
    },
    {
      "cell_type": "markdown",
      "source": [
        "## **12. Use Pandas to load a CSV file and display its first 5 rows.**"
      ],
      "metadata": {
        "id": "mHo9sAouPtJ-"
      }
    },
    {
      "cell_type": "markdown",
      "source": [
        "https://docs.google.com/spreadsheets/d/1VO1pohllqrf9Q5aGwB8aeQ-LEvnCwfPfb40AnJyCKNM/edit?gid=60148987#gid=60148987"
      ],
      "metadata": {
        "id": "uyXEKFH2mEOH"
      }
    },
    {
      "cell_type": "code",
      "source": [
        "import pandas as pd\n",
        "\n",
        "# Loading CSV file:\n",
        "try:\n",
        "  df=pd.read_csv('taxonomy.csv')\n",
        "except FileNotFoundError:\n",
        "  print(\"Error: 'data.csv' not found. Please create the file or update the path.\")\n",
        "  exit()\n",
        "\n",
        "# Display first 5 rows:\n",
        "print(\"First 5 rows of the DataFrame:\\n\")\n",
        "print(df.head())"
      ],
      "metadata": {
        "colab": {
          "base_uri": "https://localhost:8080/"
        },
        "id": "-bAMHUw9lpuY",
        "outputId": "6615111b-5e9a-4172-8210-954e183e9fd5"
      },
      "execution_count": null,
      "outputs": [
        {
          "output_type": "stream",
          "name": "stdout",
          "text": [
            "First 5 rows of the DataFrame:\n",
            "\n",
            "  taxonomy_id                     name parent_id     parent_name\n",
            "0         101                Emergency       NaN             NaN\n",
            "1      101-01        Disaster Response       101       Emergency\n",
            "2      101-02           Emergency Cash       101       Emergency\n",
            "3   101-02-01        Help Pay for Food    101-02  Emergency Cash\n",
            "4   101-02-02  Help Pay for Healthcare    101-02  Emergency Cash\n"
          ]
        }
      ]
    },
    {
      "cell_type": "markdown",
      "source": [
        "## **13. Create a 3D scatter plot using Plotly.**"
      ],
      "metadata": {
        "id": "kTir_EWuPwn_"
      }
    },
    {
      "cell_type": "code",
      "source": [
        "import plotly.express as px\n",
        "import pandas as pd\n",
        "\n",
        "# Sample dataset\n",
        "data = {\n",
        "    'X': [5, 7, 8, 7, 6, 9, 5, 6, 7, 8],\n",
        "    'Y': [99, 86, 87, 88, 100, 86, 103, 87, 94, 78],\n",
        "    'Z': [12, 15, 14, 10, 18, 20, 21, 22, 19, 17],\n",
        "    'Category': ['A','A','B','B','C','C','A','B','C','A']\n",
        "}\n",
        "df = pd.DataFrame(data)\n",
        "\n",
        "# Create 3D scatter plot\n",
        "fig = px.scatter_3d(\n",
        "    df,\n",
        "    x='X', y='Y', z='Z',\n",
        "    color='Category',   # Color points by category\n",
        "    size='Z',           # Scale point size by Z values\n",
        "    symbol='Category',  # Different symbols for categories\n",
        "    title=\"3D Scatter Plot\"\n",
        ")\n",
        "\n",
        "# Show plot\n",
        "fig.show()"
      ],
      "metadata": {
        "colab": {
          "base_uri": "https://localhost:8080/",
          "height": 542
        },
        "id": "TeT3lOiCoxUR",
        "outputId": "5ef8a4f1-6829-4d71-8520-7d9dde9e8357"
      },
      "execution_count": null,
      "outputs": [
        {
          "output_type": "display_data",
          "data": {
            "text/html": [
              "<html>\n",
              "<head><meta charset=\"utf-8\" /></head>\n",
              "<body>\n",
              "    <div>            <script src=\"https://cdnjs.cloudflare.com/ajax/libs/mathjax/2.7.5/MathJax.js?config=TeX-AMS-MML_SVG\"></script><script type=\"text/javascript\">if (window.MathJax && window.MathJax.Hub && window.MathJax.Hub.Config) {window.MathJax.Hub.Config({SVG: {font: \"STIX-Web\"}});}</script>                <script type=\"text/javascript\">window.PlotlyConfig = {MathJaxConfig: 'local'};</script>\n",
              "        <script charset=\"utf-8\" src=\"https://cdn.plot.ly/plotly-2.35.2.min.js\"></script>                <div id=\"eb6c134c-2f0c-4dff-97c2-fcd48e6bcd71\" class=\"plotly-graph-div\" style=\"height:525px; width:100%;\"></div>            <script type=\"text/javascript\">                                    window.PLOTLYENV=window.PLOTLYENV || {};                                    if (document.getElementById(\"eb6c134c-2f0c-4dff-97c2-fcd48e6bcd71\")) {                    Plotly.newPlot(                        \"eb6c134c-2f0c-4dff-97c2-fcd48e6bcd71\",                        [{\"hovertemplate\":\"Category=A\\u003cbr\\u003eX=%{x}\\u003cbr\\u003eY=%{y}\\u003cbr\\u003eZ=%{marker.size}\\u003cextra\\u003e\\u003c\\u002fextra\\u003e\",\"legendgroup\":\"A\",\"marker\":{\"color\":\"#636efa\",\"size\":[12,15,21,17],\"sizemode\":\"area\",\"sizeref\":0.055,\"symbol\":\"circle\"},\"mode\":\"markers\",\"name\":\"A\",\"scene\":\"scene\",\"showlegend\":true,\"x\":[5,7,5,8],\"y\":[99,86,103,78],\"z\":[12,15,21,17],\"type\":\"scatter3d\"},{\"hovertemplate\":\"Category=B\\u003cbr\\u003eX=%{x}\\u003cbr\\u003eY=%{y}\\u003cbr\\u003eZ=%{marker.size}\\u003cextra\\u003e\\u003c\\u002fextra\\u003e\",\"legendgroup\":\"B\",\"marker\":{\"color\":\"#EF553B\",\"size\":[14,10,22],\"sizemode\":\"area\",\"sizeref\":0.055,\"symbol\":\"diamond\"},\"mode\":\"markers\",\"name\":\"B\",\"scene\":\"scene\",\"showlegend\":true,\"x\":[8,7,6],\"y\":[87,88,87],\"z\":[14,10,22],\"type\":\"scatter3d\"},{\"hovertemplate\":\"Category=C\\u003cbr\\u003eX=%{x}\\u003cbr\\u003eY=%{y}\\u003cbr\\u003eZ=%{marker.size}\\u003cextra\\u003e\\u003c\\u002fextra\\u003e\",\"legendgroup\":\"C\",\"marker\":{\"color\":\"#00cc96\",\"size\":[18,20,19],\"sizemode\":\"area\",\"sizeref\":0.055,\"symbol\":\"square\"},\"mode\":\"markers\",\"name\":\"C\",\"scene\":\"scene\",\"showlegend\":true,\"x\":[6,9,7],\"y\":[100,86,94],\"z\":[18,20,19],\"type\":\"scatter3d\"}],                        {\"template\":{\"data\":{\"histogram2dcontour\":[{\"type\":\"histogram2dcontour\",\"colorbar\":{\"outlinewidth\":0,\"ticks\":\"\"},\"colorscale\":[[0.0,\"#0d0887\"],[0.1111111111111111,\"#46039f\"],[0.2222222222222222,\"#7201a8\"],[0.3333333333333333,\"#9c179e\"],[0.4444444444444444,\"#bd3786\"],[0.5555555555555556,\"#d8576b\"],[0.6666666666666666,\"#ed7953\"],[0.7777777777777778,\"#fb9f3a\"],[0.8888888888888888,\"#fdca26\"],[1.0,\"#f0f921\"]]}],\"choropleth\":[{\"type\":\"choropleth\",\"colorbar\":{\"outlinewidth\":0,\"ticks\":\"\"}}],\"histogram2d\":[{\"type\":\"histogram2d\",\"colorbar\":{\"outlinewidth\":0,\"ticks\":\"\"},\"colorscale\":[[0.0,\"#0d0887\"],[0.1111111111111111,\"#46039f\"],[0.2222222222222222,\"#7201a8\"],[0.3333333333333333,\"#9c179e\"],[0.4444444444444444,\"#bd3786\"],[0.5555555555555556,\"#d8576b\"],[0.6666666666666666,\"#ed7953\"],[0.7777777777777778,\"#fb9f3a\"],[0.8888888888888888,\"#fdca26\"],[1.0,\"#f0f921\"]]}],\"heatmap\":[{\"type\":\"heatmap\",\"colorbar\":{\"outlinewidth\":0,\"ticks\":\"\"},\"colorscale\":[[0.0,\"#0d0887\"],[0.1111111111111111,\"#46039f\"],[0.2222222222222222,\"#7201a8\"],[0.3333333333333333,\"#9c179e\"],[0.4444444444444444,\"#bd3786\"],[0.5555555555555556,\"#d8576b\"],[0.6666666666666666,\"#ed7953\"],[0.7777777777777778,\"#fb9f3a\"],[0.8888888888888888,\"#fdca26\"],[1.0,\"#f0f921\"]]}],\"heatmapgl\":[{\"type\":\"heatmapgl\",\"colorbar\":{\"outlinewidth\":0,\"ticks\":\"\"},\"colorscale\":[[0.0,\"#0d0887\"],[0.1111111111111111,\"#46039f\"],[0.2222222222222222,\"#7201a8\"],[0.3333333333333333,\"#9c179e\"],[0.4444444444444444,\"#bd3786\"],[0.5555555555555556,\"#d8576b\"],[0.6666666666666666,\"#ed7953\"],[0.7777777777777778,\"#fb9f3a\"],[0.8888888888888888,\"#fdca26\"],[1.0,\"#f0f921\"]]}],\"contourcarpet\":[{\"type\":\"contourcarpet\",\"colorbar\":{\"outlinewidth\":0,\"ticks\":\"\"}}],\"contour\":[{\"type\":\"contour\",\"colorbar\":{\"outlinewidth\":0,\"ticks\":\"\"},\"colorscale\":[[0.0,\"#0d0887\"],[0.1111111111111111,\"#46039f\"],[0.2222222222222222,\"#7201a8\"],[0.3333333333333333,\"#9c179e\"],[0.4444444444444444,\"#bd3786\"],[0.5555555555555556,\"#d8576b\"],[0.6666666666666666,\"#ed7953\"],[0.7777777777777778,\"#fb9f3a\"],[0.8888888888888888,\"#fdca26\"],[1.0,\"#f0f921\"]]}],\"surface\":[{\"type\":\"surface\",\"colorbar\":{\"outlinewidth\":0,\"ticks\":\"\"},\"colorscale\":[[0.0,\"#0d0887\"],[0.1111111111111111,\"#46039f\"],[0.2222222222222222,\"#7201a8\"],[0.3333333333333333,\"#9c179e\"],[0.4444444444444444,\"#bd3786\"],[0.5555555555555556,\"#d8576b\"],[0.6666666666666666,\"#ed7953\"],[0.7777777777777778,\"#fb9f3a\"],[0.8888888888888888,\"#fdca26\"],[1.0,\"#f0f921\"]]}],\"mesh3d\":[{\"type\":\"mesh3d\",\"colorbar\":{\"outlinewidth\":0,\"ticks\":\"\"}}],\"scatter\":[{\"fillpattern\":{\"fillmode\":\"overlay\",\"size\":10,\"solidity\":0.2},\"type\":\"scatter\"}],\"parcoords\":[{\"type\":\"parcoords\",\"line\":{\"colorbar\":{\"outlinewidth\":0,\"ticks\":\"\"}}}],\"scatterpolargl\":[{\"type\":\"scatterpolargl\",\"marker\":{\"colorbar\":{\"outlinewidth\":0,\"ticks\":\"\"}}}],\"bar\":[{\"error_x\":{\"color\":\"#2a3f5f\"},\"error_y\":{\"color\":\"#2a3f5f\"},\"marker\":{\"line\":{\"color\":\"#E5ECF6\",\"width\":0.5},\"pattern\":{\"fillmode\":\"overlay\",\"size\":10,\"solidity\":0.2}},\"type\":\"bar\"}],\"scattergeo\":[{\"type\":\"scattergeo\",\"marker\":{\"colorbar\":{\"outlinewidth\":0,\"ticks\":\"\"}}}],\"scatterpolar\":[{\"type\":\"scatterpolar\",\"marker\":{\"colorbar\":{\"outlinewidth\":0,\"ticks\":\"\"}}}],\"histogram\":[{\"marker\":{\"pattern\":{\"fillmode\":\"overlay\",\"size\":10,\"solidity\":0.2}},\"type\":\"histogram\"}],\"scattergl\":[{\"type\":\"scattergl\",\"marker\":{\"colorbar\":{\"outlinewidth\":0,\"ticks\":\"\"}}}],\"scatter3d\":[{\"type\":\"scatter3d\",\"line\":{\"colorbar\":{\"outlinewidth\":0,\"ticks\":\"\"}},\"marker\":{\"colorbar\":{\"outlinewidth\":0,\"ticks\":\"\"}}}],\"scattermapbox\":[{\"type\":\"scattermapbox\",\"marker\":{\"colorbar\":{\"outlinewidth\":0,\"ticks\":\"\"}}}],\"scatterternary\":[{\"type\":\"scatterternary\",\"marker\":{\"colorbar\":{\"outlinewidth\":0,\"ticks\":\"\"}}}],\"scattercarpet\":[{\"type\":\"scattercarpet\",\"marker\":{\"colorbar\":{\"outlinewidth\":0,\"ticks\":\"\"}}}],\"carpet\":[{\"aaxis\":{\"endlinecolor\":\"#2a3f5f\",\"gridcolor\":\"white\",\"linecolor\":\"white\",\"minorgridcolor\":\"white\",\"startlinecolor\":\"#2a3f5f\"},\"baxis\":{\"endlinecolor\":\"#2a3f5f\",\"gridcolor\":\"white\",\"linecolor\":\"white\",\"minorgridcolor\":\"white\",\"startlinecolor\":\"#2a3f5f\"},\"type\":\"carpet\"}],\"table\":[{\"cells\":{\"fill\":{\"color\":\"#EBF0F8\"},\"line\":{\"color\":\"white\"}},\"header\":{\"fill\":{\"color\":\"#C8D4E3\"},\"line\":{\"color\":\"white\"}},\"type\":\"table\"}],\"barpolar\":[{\"marker\":{\"line\":{\"color\":\"#E5ECF6\",\"width\":0.5},\"pattern\":{\"fillmode\":\"overlay\",\"size\":10,\"solidity\":0.2}},\"type\":\"barpolar\"}],\"pie\":[{\"automargin\":true,\"type\":\"pie\"}]},\"layout\":{\"autotypenumbers\":\"strict\",\"colorway\":[\"#636efa\",\"#EF553B\",\"#00cc96\",\"#ab63fa\",\"#FFA15A\",\"#19d3f3\",\"#FF6692\",\"#B6E880\",\"#FF97FF\",\"#FECB52\"],\"font\":{\"color\":\"#2a3f5f\"},\"hovermode\":\"closest\",\"hoverlabel\":{\"align\":\"left\"},\"paper_bgcolor\":\"white\",\"plot_bgcolor\":\"#E5ECF6\",\"polar\":{\"bgcolor\":\"#E5ECF6\",\"angularaxis\":{\"gridcolor\":\"white\",\"linecolor\":\"white\",\"ticks\":\"\"},\"radialaxis\":{\"gridcolor\":\"white\",\"linecolor\":\"white\",\"ticks\":\"\"}},\"ternary\":{\"bgcolor\":\"#E5ECF6\",\"aaxis\":{\"gridcolor\":\"white\",\"linecolor\":\"white\",\"ticks\":\"\"},\"baxis\":{\"gridcolor\":\"white\",\"linecolor\":\"white\",\"ticks\":\"\"},\"caxis\":{\"gridcolor\":\"white\",\"linecolor\":\"white\",\"ticks\":\"\"}},\"coloraxis\":{\"colorbar\":{\"outlinewidth\":0,\"ticks\":\"\"}},\"colorscale\":{\"sequential\":[[0.0,\"#0d0887\"],[0.1111111111111111,\"#46039f\"],[0.2222222222222222,\"#7201a8\"],[0.3333333333333333,\"#9c179e\"],[0.4444444444444444,\"#bd3786\"],[0.5555555555555556,\"#d8576b\"],[0.6666666666666666,\"#ed7953\"],[0.7777777777777778,\"#fb9f3a\"],[0.8888888888888888,\"#fdca26\"],[1.0,\"#f0f921\"]],\"sequentialminus\":[[0.0,\"#0d0887\"],[0.1111111111111111,\"#46039f\"],[0.2222222222222222,\"#7201a8\"],[0.3333333333333333,\"#9c179e\"],[0.4444444444444444,\"#bd3786\"],[0.5555555555555556,\"#d8576b\"],[0.6666666666666666,\"#ed7953\"],[0.7777777777777778,\"#fb9f3a\"],[0.8888888888888888,\"#fdca26\"],[1.0,\"#f0f921\"]],\"diverging\":[[0,\"#8e0152\"],[0.1,\"#c51b7d\"],[0.2,\"#de77ae\"],[0.3,\"#f1b6da\"],[0.4,\"#fde0ef\"],[0.5,\"#f7f7f7\"],[0.6,\"#e6f5d0\"],[0.7,\"#b8e186\"],[0.8,\"#7fbc41\"],[0.9,\"#4d9221\"],[1,\"#276419\"]]},\"xaxis\":{\"gridcolor\":\"white\",\"linecolor\":\"white\",\"ticks\":\"\",\"title\":{\"standoff\":15},\"zerolinecolor\":\"white\",\"automargin\":true,\"zerolinewidth\":2},\"yaxis\":{\"gridcolor\":\"white\",\"linecolor\":\"white\",\"ticks\":\"\",\"title\":{\"standoff\":15},\"zerolinecolor\":\"white\",\"automargin\":true,\"zerolinewidth\":2},\"scene\":{\"xaxis\":{\"backgroundcolor\":\"#E5ECF6\",\"gridcolor\":\"white\",\"linecolor\":\"white\",\"showbackground\":true,\"ticks\":\"\",\"zerolinecolor\":\"white\",\"gridwidth\":2},\"yaxis\":{\"backgroundcolor\":\"#E5ECF6\",\"gridcolor\":\"white\",\"linecolor\":\"white\",\"showbackground\":true,\"ticks\":\"\",\"zerolinecolor\":\"white\",\"gridwidth\":2},\"zaxis\":{\"backgroundcolor\":\"#E5ECF6\",\"gridcolor\":\"white\",\"linecolor\":\"white\",\"showbackground\":true,\"ticks\":\"\",\"zerolinecolor\":\"white\",\"gridwidth\":2}},\"shapedefaults\":{\"line\":{\"color\":\"#2a3f5f\"}},\"annotationdefaults\":{\"arrowcolor\":\"#2a3f5f\",\"arrowhead\":0,\"arrowwidth\":1},\"geo\":{\"bgcolor\":\"white\",\"landcolor\":\"#E5ECF6\",\"subunitcolor\":\"white\",\"showland\":true,\"showlakes\":true,\"lakecolor\":\"white\"},\"title\":{\"x\":0.05},\"mapbox\":{\"style\":\"light\"}}},\"scene\":{\"domain\":{\"x\":[0.0,1.0],\"y\":[0.0,1.0]},\"xaxis\":{\"title\":{\"text\":\"X\"}},\"yaxis\":{\"title\":{\"text\":\"Y\"}},\"zaxis\":{\"title\":{\"text\":\"Z\"}}},\"legend\":{\"title\":{\"text\":\"Category\"},\"tracegroupgap\":0,\"itemsizing\":\"constant\"},\"title\":{\"text\":\"3D Scatter Plot Example\"}},                        {\"responsive\": true}                    ).then(function(){\n",
              "                            \n",
              "var gd = document.getElementById('eb6c134c-2f0c-4dff-97c2-fcd48e6bcd71');\n",
              "var x = new MutationObserver(function (mutations, observer) {{\n",
              "        var display = window.getComputedStyle(gd).display;\n",
              "        if (!display || display === 'none') {{\n",
              "            console.log([gd, 'removed!']);\n",
              "            Plotly.purge(gd);\n",
              "            observer.disconnect();\n",
              "        }}\n",
              "}});\n",
              "\n",
              "// Listen for the removal of the full notebook cells\n",
              "var notebookContainer = gd.closest('#notebook-container');\n",
              "if (notebookContainer) {{\n",
              "    x.observe(notebookContainer, {childList: true});\n",
              "}}\n",
              "\n",
              "// Listen for the clearing of the current output cell\n",
              "var outputEl = gd.closest('.output');\n",
              "if (outputEl) {{\n",
              "    x.observe(outputEl, {childList: true});\n",
              "}}\n",
              "\n",
              "                        })                };                            </script>        </div>\n",
              "</body>\n",
              "</html>"
            ]
          },
          "metadata": {}
        }
      ]
    }
  ]
}